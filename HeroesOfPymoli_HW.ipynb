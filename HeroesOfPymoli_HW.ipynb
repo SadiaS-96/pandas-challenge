{
 "cells": [
  {
   "cell_type": "markdown",
   "metadata": {},
   "source": [
    "### Note\n",
    "* Instructions have been included for each segment. You do not have to follow them exactly, but they are included to help you think through the steps."
   ]
  },
  {
   "cell_type": "code",
   "execution_count": 3,
   "metadata": {},
   "outputs": [
    {
     "data": {
      "text/html": [
       "<div>\n",
       "<style scoped>\n",
       "    .dataframe tbody tr th:only-of-type {\n",
       "        vertical-align: middle;\n",
       "    }\n",
       "\n",
       "    .dataframe tbody tr th {\n",
       "        vertical-align: top;\n",
       "    }\n",
       "\n",
       "    .dataframe thead th {\n",
       "        text-align: right;\n",
       "    }\n",
       "</style>\n",
       "<table border=\"1\" class=\"dataframe\">\n",
       "  <thead>\n",
       "    <tr style=\"text-align: right;\">\n",
       "      <th></th>\n",
       "      <th>Purchase ID</th>\n",
       "      <th>SN</th>\n",
       "      <th>Age</th>\n",
       "      <th>Gender</th>\n",
       "      <th>Item ID</th>\n",
       "      <th>Item Name</th>\n",
       "      <th>Price</th>\n",
       "    </tr>\n",
       "  </thead>\n",
       "  <tbody>\n",
       "    <tr>\n",
       "      <th>0</th>\n",
       "      <td>0</td>\n",
       "      <td>Lisim78</td>\n",
       "      <td>20</td>\n",
       "      <td>Male</td>\n",
       "      <td>108</td>\n",
       "      <td>Extraction, Quickblade Of Trembling Hands</td>\n",
       "      <td>3.53</td>\n",
       "    </tr>\n",
       "    <tr>\n",
       "      <th>1</th>\n",
       "      <td>1</td>\n",
       "      <td>Lisovynya38</td>\n",
       "      <td>40</td>\n",
       "      <td>Male</td>\n",
       "      <td>143</td>\n",
       "      <td>Frenzied Scimitar</td>\n",
       "      <td>1.56</td>\n",
       "    </tr>\n",
       "    <tr>\n",
       "      <th>2</th>\n",
       "      <td>2</td>\n",
       "      <td>Ithergue48</td>\n",
       "      <td>24</td>\n",
       "      <td>Male</td>\n",
       "      <td>92</td>\n",
       "      <td>Final Critic</td>\n",
       "      <td>4.88</td>\n",
       "    </tr>\n",
       "    <tr>\n",
       "      <th>3</th>\n",
       "      <td>3</td>\n",
       "      <td>Chamassasya86</td>\n",
       "      <td>24</td>\n",
       "      <td>Male</td>\n",
       "      <td>100</td>\n",
       "      <td>Blindscythe</td>\n",
       "      <td>3.27</td>\n",
       "    </tr>\n",
       "    <tr>\n",
       "      <th>4</th>\n",
       "      <td>4</td>\n",
       "      <td>Iskosia90</td>\n",
       "      <td>23</td>\n",
       "      <td>Male</td>\n",
       "      <td>131</td>\n",
       "      <td>Fury</td>\n",
       "      <td>1.44</td>\n",
       "    </tr>\n",
       "  </tbody>\n",
       "</table>\n",
       "</div>"
      ],
      "text/plain": [
       "   Purchase ID             SN  Age Gender  Item ID  \\\n",
       "0            0        Lisim78   20   Male      108   \n",
       "1            1    Lisovynya38   40   Male      143   \n",
       "2            2     Ithergue48   24   Male       92   \n",
       "3            3  Chamassasya86   24   Male      100   \n",
       "4            4      Iskosia90   23   Male      131   \n",
       "\n",
       "                                   Item Name  Price  \n",
       "0  Extraction, Quickblade Of Trembling Hands   3.53  \n",
       "1                          Frenzied Scimitar   1.56  \n",
       "2                               Final Critic   4.88  \n",
       "3                                Blindscythe   3.27  \n",
       "4                                       Fury   1.44  "
      ]
     },
     "execution_count": 3,
     "metadata": {},
     "output_type": "execute_result"
    }
   ],
   "source": [
    "# Dependencies and Setup\n",
    "import pandas as pd\n",
    "\n",
    "# File to Load (Remember to Change These)\n",
    "file_to_load = \"Resources/purchase_data.csv\"\n",
    "\n",
    "# Read Purchasing File and store into Pandas data frame\n",
    "purchase_data = pd.read_csv(file_to_load)\n",
    "\n",
    "purchase_data.head()"
   ]
  },
  {
   "cell_type": "markdown",
   "metadata": {},
   "source": [
    "## Player Count"
   ]
  },
  {
   "cell_type": "markdown",
   "metadata": {},
   "source": [
    "* Display the total number of players\n"
   ]
  },
  {
   "cell_type": "code",
   "execution_count": 4,
   "metadata": {},
   "outputs": [],
   "source": [
    "player_count = len (purchase_data[\"SN\"].value_counts())"
   ]
  },
  {
   "cell_type": "code",
   "execution_count": 5,
   "metadata": {},
   "outputs": [
    {
     "data": {
      "text/html": [
       "<div>\n",
       "<style scoped>\n",
       "    .dataframe tbody tr th:only-of-type {\n",
       "        vertical-align: middle;\n",
       "    }\n",
       "\n",
       "    .dataframe tbody tr th {\n",
       "        vertical-align: top;\n",
       "    }\n",
       "\n",
       "    .dataframe thead th {\n",
       "        text-align: right;\n",
       "    }\n",
       "</style>\n",
       "<table border=\"1\" class=\"dataframe\">\n",
       "  <thead>\n",
       "    <tr style=\"text-align: right;\">\n",
       "      <th></th>\n",
       "      <th>Total Players</th>\n",
       "    </tr>\n",
       "  </thead>\n",
       "  <tbody>\n",
       "    <tr>\n",
       "      <th>0</th>\n",
       "      <td>576</td>\n",
       "    </tr>\n",
       "  </tbody>\n",
       "</table>\n",
       "</div>"
      ],
      "text/plain": [
       "   Total Players\n",
       "0            576"
      ]
     },
     "execution_count": 5,
     "metadata": {},
     "output_type": "execute_result"
    }
   ],
   "source": [
    "total_players=pd.DataFrame({\"Total Players\":[player_count]})\n",
    "total_players"
   ]
  },
  {
   "cell_type": "markdown",
   "metadata": {},
   "source": [
    "## Purchasing Analysis (Total)"
   ]
  },
  {
   "cell_type": "markdown",
   "metadata": {},
   "source": [
    "* Run basic calculations to obtain number of unique items, average price, etc.\n",
    "\n",
    "\n",
    "* Create a summary data frame to hold the results\n",
    "\n",
    "\n",
    "* Optional: give the displayed data cleaner formatting\n",
    "\n",
    "\n",
    "* Display the summary data frame\n"
   ]
  },
  {
   "cell_type": "code",
   "execution_count": 6,
   "metadata": {
    "scrolled": true
   },
   "outputs": [
    {
     "data": {
      "text/html": [
       "<div>\n",
       "<style scoped>\n",
       "    .dataframe tbody tr th:only-of-type {\n",
       "        vertical-align: middle;\n",
       "    }\n",
       "\n",
       "    .dataframe tbody tr th {\n",
       "        vertical-align: top;\n",
       "    }\n",
       "\n",
       "    .dataframe thead th {\n",
       "        text-align: right;\n",
       "    }\n",
       "</style>\n",
       "<table border=\"1\" class=\"dataframe\">\n",
       "  <thead>\n",
       "    <tr style=\"text-align: right;\">\n",
       "      <th></th>\n",
       "      <th>Unique Items</th>\n",
       "      <th>Average Price</th>\n",
       "      <th>Number of Purchases</th>\n",
       "      <th>Revenue</th>\n",
       "    </tr>\n",
       "  </thead>\n",
       "  <tbody>\n",
       "    <tr>\n",
       "      <th>0</th>\n",
       "      <td>183</td>\n",
       "      <td>3.050987</td>\n",
       "      <td>780</td>\n",
       "      <td>2379.77</td>\n",
       "    </tr>\n",
       "  </tbody>\n",
       "</table>\n",
       "</div>"
      ],
      "text/plain": [
       "   Unique Items  Average Price  Number of Purchases  Revenue\n",
       "0           183       3.050987                  780  2379.77"
      ]
     },
     "execution_count": 6,
     "metadata": {},
     "output_type": "execute_result"
    }
   ],
   "source": [
    "# Basic calculations: unique items, average price,..\n",
    "\n",
    "#Unique Items\n",
    "\n",
    "unique_item = len(purchase_data[\"Item ID\"].value_counts())\n",
    "\n",
    "#average price\n",
    "\n",
    "average_price=(purchase_data[\"Price\"].mean())\n",
    "\n",
    "# number of purchases\n",
    "num_purchase=len(purchase_data[\"Purchase ID\"].value_counts())\n",
    "\n",
    "#Revenue\n",
    "\n",
    "tot_reveneu=(purchase_data[\"Price\"].sum())\n",
    "\n",
    "#Summary DataFrame\n",
    "\n",
    "summary_data={\"Unique Items\":[unique_item], \"Average Price\":[average_price], \"Number of Purchases\":[num_purchase],\"Revenue\": [tot_reveneu]}\n",
    "summary_df =pd.DataFrame(summary_data, columns=[\"Unique Items\", \"Average Price\",\"Number of Purchases\",\"Revenue\"])\n",
    "summary_df.head()"
   ]
  },
  {
   "cell_type": "markdown",
   "metadata": {},
   "source": [
    "## Gender Demographics"
   ]
  },
  {
   "cell_type": "markdown",
   "metadata": {},
   "source": [
    "* Percentage and Count of Male Players\n",
    "\n",
    "\n",
    "* Percentage and Count of Female Players\n",
    "\n",
    "\n",
    "* Percentage and Count of Other / Non-Disclosed\n",
    "\n",
    "\n"
   ]
  },
  {
   "cell_type": "code",
   "execution_count": 7,
   "metadata": {},
   "outputs": [
    {
     "data": {
      "text/plain": [
       "<pandas.core.groupby.generic.DataFrameGroupBy object at 0x119d18748>"
      ]
     },
     "execution_count": 7,
     "metadata": {},
     "output_type": "execute_result"
    }
   ],
   "source": [
    "# Total count of gender\n",
    "gender_=purchase_data.groupby(\"Gender\")\n",
    "\n",
    "gender_"
   ]
  },
  {
   "cell_type": "code",
   "execution_count": 8,
   "metadata": {},
   "outputs": [
    {
     "data": {
      "text/plain": [
       "Gender\n",
       "Female                    81\n",
       "Male                     484\n",
       "Other / Non-Disclosed     11\n",
       "Name: SN, dtype: int64"
      ]
     },
     "execution_count": 8,
     "metadata": {},
     "output_type": "execute_result"
    }
   ],
   "source": [
    "#counting each gender uniquely female or male\n",
    "\n",
    "total_count_gender= gender_.nunique()[\"SN\"]\n",
    "total_count_gender"
   ]
  },
  {
   "cell_type": "code",
   "execution_count": 9,
   "metadata": {},
   "outputs": [
    {
     "data": {
      "text/plain": [
       "Gender\n",
       "Female                   14.062500\n",
       "Male                     84.027778\n",
       "Other / Non-Disclosed     1.909722\n",
       "Name: SN, dtype: float64"
      ]
     },
     "execution_count": 9,
     "metadata": {},
     "output_type": "execute_result"
    }
   ],
   "source": [
    "#percentages\n",
    "\n",
    "\n",
    "percent = (total_count_gender/ 576)*100\n",
    "percent"
   ]
  },
  {
   "cell_type": "code",
   "execution_count": 51,
   "metadata": {},
   "outputs": [
    {
     "data": {
      "text/html": [
       "<style  type=\"text/css\" >\n",
       "</style><table id=\"T_34b34264_3735_11ea_8cfa_48bf6be9ffea\" ><thead>    <tr>        <th class=\"blank level0\" ></th>        <th class=\"col_heading level0 col0\" >Total Genders</th>        <th class=\"col_heading level0 col1\" >Count of Unique Gender</th>        <th class=\"col_heading level0 col2\" >Percentages</th>    </tr></thead><tbody>\n",
       "                <tr>\n",
       "                        <th id=\"T_34b34264_3735_11ea_8cfa_48bf6be9ffealevel0_row0\" class=\"row_heading level0 row0\" >0</th>\n",
       "                        <td id=\"T_34b34264_3735_11ea_8cfa_48bf6be9ffearow0_col0\" class=\"data row0 col0\" ><pandas.core.groupby.generic.DataFrameGroupBy object at 0x119d18748></td>\n",
       "                        <td id=\"T_34b34264_3735_11ea_8cfa_48bf6be9ffearow0_col1\" class=\"data row0 col1\" >Gender\n",
       "Female                    81\n",
       "Male                     484\n",
       "Other / Non-Disclosed     11\n",
       "Name: SN, dtype: int64</td>\n",
       "                        <td id=\"T_34b34264_3735_11ea_8cfa_48bf6be9ffearow0_col2\" class=\"data row0 col2\" >Gender\n",
       "Female                   14.062500\n",
       "Male                     84.027778\n",
       "Other / Non-Disclosed     1.909722\n",
       "Name: SN, dtype: float64</td>\n",
       "            </tr>\n",
       "    </tbody></table>"
      ],
      "text/plain": [
       "<pandas.io.formats.style.Styler at 0x11b17aef0>"
      ]
     },
     "execution_count": 51,
     "metadata": {},
     "output_type": "execute_result"
    }
   ],
   "source": [
    "# creating dataframe with gender information\n",
    "\n",
    "gender_summary = {\"Total Genders\":[gender_],\"Count of Unique Gender\":[total_count_gender],\"Percentages\":[percent]}\n",
    "gender_summary_df= pd.DataFrame(gender_summary,columns=[\"Total Genders\",\"Count of Unique Gender\",\"Percentages\"])\n",
    "gender_summary_df.index.name= None \n",
    "gender_dict=gender_summary_df.sort_values([\"Total Genders\"], ascending=False).style.format({\"Percentages of Players\":\"{:,.2f}\"})\n",
    "\n",
    "gender_dict"
   ]
  },
  {
   "cell_type": "code",
   "execution_count": null,
   "metadata": {},
   "outputs": [],
   "source": []
  },
  {
   "cell_type": "markdown",
   "metadata": {},
   "source": [
    "\n",
    "## Purchasing Analysis (Gender)"
   ]
  },
  {
   "cell_type": "markdown",
   "metadata": {},
   "source": [
    "* Run basic calculations to obtain purchase count, avg. purchase price, avg. purchase total per person etc. by gender\n",
    "\n",
    "\n",
    "\n",
    "\n",
    "* Create a summary data frame to hold the results\n",
    "\n",
    "\n",
    "* Optional: give the displayed data cleaner formatting\n",
    "\n",
    "\n",
    "* Display the summary data frame"
   ]
  },
  {
   "cell_type": "code",
   "execution_count": 184,
   "metadata": {},
   "outputs": [
    {
     "data": {
      "text/plain": [
       "Gender\n",
       "Female                   113\n",
       "Male                     652\n",
       "Other / Non-Disclosed     15\n",
       "Name: Purchase ID, dtype: int64"
      ]
     },
     "execution_count": 184,
     "metadata": {},
     "output_type": "execute_result"
    }
   ],
   "source": [
    "#Basic Calculations\n",
    "\n",
    "#Purchase Analysys Gender\n",
    "\n",
    "purchase_count=gender_[\"Purchase ID\"].count()\n",
    "\n",
    "purchase_count"
   ]
  },
  {
   "cell_type": "code",
   "execution_count": 185,
   "metadata": {},
   "outputs": [
    {
     "data": {
      "text/plain": [
       "Gender\n",
       "Female                   3.203009\n",
       "Male                     3.017853\n",
       "Other / Non-Disclosed    3.346000\n",
       "Name: Price, dtype: float64"
      ]
     },
     "execution_count": 185,
     "metadata": {},
     "output_type": "execute_result"
    }
   ],
   "source": [
    "# average purchase price total by gender\n",
    "avg_pur_price = gender_[\"Price\"].mean()\n",
    "avg_pur_price"
   ]
  },
  {
   "cell_type": "code",
   "execution_count": 186,
   "metadata": {},
   "outputs": [
    {
     "data": {
      "text/plain": [
       "Gender\n",
       "Female                    361.94\n",
       "Male                     1967.64\n",
       "Other / Non-Disclosed      50.19\n",
       "Name: Price, dtype: float64"
      ]
     },
     "execution_count": 186,
     "metadata": {},
     "output_type": "execute_result"
    }
   ],
   "source": [
    "#average purchase price total by gender\n",
    "avg_pur_total=gender_[\"Price\"].sum()\n",
    "avg_pur_total"
   ]
  },
  {
   "cell_type": "code",
   "execution_count": 187,
   "metadata": {},
   "outputs": [
    {
     "data": {
      "text/plain": [
       "Gender\n",
       "Female                   4.468395\n",
       "Male                     4.065372\n",
       "Other / Non-Disclosed    4.562727\n",
       "dtype: float64"
      ]
     },
     "execution_count": 187,
     "metadata": {},
     "output_type": "execute_result"
    }
   ],
   "source": [
    "#average purchase total by gender divided by purchase count of unique shoppers\n",
    "\n",
    "avg_purchase_per_person= avg_pur_total/total_count_gender\n",
    "avg_purchase_per_person"
   ]
  },
  {
   "cell_type": "code",
   "execution_count": 188,
   "metadata": {},
   "outputs": [
    {
     "data": {
      "text/html": [
       "<style  type=\"text/css\" >\n",
       "</style><table id=\"T_46638416_36ee_11ea_bfbc_48bf6be9ffea\" ><thead>    <tr>        <th class=\"blank level0\" ></th>        <th class=\"col_heading level0 col0\" >Purchase Count</th>        <th class=\"col_heading level0 col1\" >Average Purchase Price</th>        <th class=\"col_heading level0 col2\" >Average Purchase Value</th>        <th class=\"col_heading level0 col3\" >Average Purchase Total Per Gender</th>    </tr>    <tr>        <th class=\"index_name level0\" >Gender</th>        <th class=\"blank\" ></th>        <th class=\"blank\" ></th>        <th class=\"blank\" ></th>        <th class=\"blank\" ></th>    </tr></thead><tbody>\n",
       "                <tr>\n",
       "                        <th id=\"T_46638416_36ee_11ea_bfbc_48bf6be9ffealevel0_row0\" class=\"row_heading level0 row0\" >Female</th>\n",
       "                        <td id=\"T_46638416_36ee_11ea_bfbc_48bf6be9ffearow0_col0\" class=\"data row0 col0\" >113</td>\n",
       "                        <td id=\"T_46638416_36ee_11ea_bfbc_48bf6be9ffearow0_col1\" class=\"data row0 col1\" >$3.20</td>\n",
       "                        <td id=\"T_46638416_36ee_11ea_bfbc_48bf6be9ffearow0_col2\" class=\"data row0 col2\" >$361.94</td>\n",
       "                        <td id=\"T_46638416_36ee_11ea_bfbc_48bf6be9ffearow0_col3\" class=\"data row0 col3\" >$4.47</td>\n",
       "            </tr>\n",
       "            <tr>\n",
       "                        <th id=\"T_46638416_36ee_11ea_bfbc_48bf6be9ffealevel0_row1\" class=\"row_heading level0 row1\" >Male</th>\n",
       "                        <td id=\"T_46638416_36ee_11ea_bfbc_48bf6be9ffearow1_col0\" class=\"data row1 col0\" >652</td>\n",
       "                        <td id=\"T_46638416_36ee_11ea_bfbc_48bf6be9ffearow1_col1\" class=\"data row1 col1\" >$3.02</td>\n",
       "                        <td id=\"T_46638416_36ee_11ea_bfbc_48bf6be9ffearow1_col2\" class=\"data row1 col2\" >$1,967.64</td>\n",
       "                        <td id=\"T_46638416_36ee_11ea_bfbc_48bf6be9ffearow1_col3\" class=\"data row1 col3\" >$4.07</td>\n",
       "            </tr>\n",
       "            <tr>\n",
       "                        <th id=\"T_46638416_36ee_11ea_bfbc_48bf6be9ffealevel0_row2\" class=\"row_heading level0 row2\" >Other / Non-Disclosed</th>\n",
       "                        <td id=\"T_46638416_36ee_11ea_bfbc_48bf6be9ffearow2_col0\" class=\"data row2 col0\" >15</td>\n",
       "                        <td id=\"T_46638416_36ee_11ea_bfbc_48bf6be9ffearow2_col1\" class=\"data row2 col1\" >$3.35</td>\n",
       "                        <td id=\"T_46638416_36ee_11ea_bfbc_48bf6be9ffearow2_col2\" class=\"data row2 col2\" >$50.19</td>\n",
       "                        <td id=\"T_46638416_36ee_11ea_bfbc_48bf6be9ffearow2_col3\" class=\"data row2 col3\" >$4.56</td>\n",
       "            </tr>\n",
       "    </tbody></table>"
      ],
      "text/plain": [
       "<pandas.io.formats.style.Styler at 0x122d100b8>"
      ]
     },
     "execution_count": 188,
     "metadata": {},
     "output_type": "execute_result"
    }
   ],
   "source": [
    "#create dataframe with information above\n",
    "\n",
    "purchase_analysis=pd.DataFrame({\"Purchase Count\":purchase_count, \"Average Purchase Price\":avg_pur_price,\"Average Purchase Value\":avg_pur_total,\"Average Purchase Total Per Gender\":avg_purchase_per_person}\n",
    "                            )\n",
    "purchase_analysis.index.name=\"Gender\"\n",
    "\n",
    "purchase_analysis.style.format({\"Average Purchase Price\":\"${:,.2f}\", \"Average Purchase Value\":\"${:,.2f}\",\"Average Purchase Total Per Gender\":\"${:,.2f}\"})\n"
   ]
  },
  {
   "cell_type": "markdown",
   "metadata": {},
   "source": [
    "## Age Demographics"
   ]
  },
  {
   "cell_type": "markdown",
   "metadata": {},
   "source": [
    "* Establish bins for ages\n",
    "\n",
    "\n",
    "* Categorize the existing players using the age bins. Hint: use pd.cut()\n",
    "\n",
    "\n",
    "* Calculate the numbers and percentages by age group\n",
    "\n",
    "\n",
    "* Create a summary data frame to hold the results\n",
    "\n",
    "\n",
    "* Optional: round the percentage column to two decimal points\n",
    "\n",
    "\n",
    "* Display Age Demographics Table\n"
   ]
  },
  {
   "cell_type": "code",
   "execution_count": 35,
   "metadata": {},
   "outputs": [
    {
     "data": {
      "text/html": [
       "<style  type=\"text/css\" >\n",
       "</style><table id=\"T_1b0d7e7a_3734_11ea_8cfa_48bf6be9ffea\" ><thead>    <tr>        <th class=\"blank level0\" ></th>        <th class=\"col_heading level0 col0\" >Percent of Players</th>        <th class=\"col_heading level0 col1\" >Total Count</th>    </tr></thead><tbody>\n",
       "                <tr>\n",
       "                        <th id=\"T_1b0d7e7a_3734_11ea_8cfa_48bf6be9ffealevel0_row0\" class=\"row_heading level0 row0\" ><10</th>\n",
       "                        <td id=\"T_1b0d7e7a_3734_11ea_8cfa_48bf6be9ffearow0_col0\" class=\"data row0 col0\" >2.95139</td>\n",
       "                        <td id=\"T_1b0d7e7a_3734_11ea_8cfa_48bf6be9ffearow0_col1\" class=\"data row0 col1\" >17</td>\n",
       "            </tr>\n",
       "            <tr>\n",
       "                        <th id=\"T_1b0d7e7a_3734_11ea_8cfa_48bf6be9ffealevel0_row1\" class=\"row_heading level0 row1\" >10-14</th>\n",
       "                        <td id=\"T_1b0d7e7a_3734_11ea_8cfa_48bf6be9ffearow1_col0\" class=\"data row1 col0\" >3.81944</td>\n",
       "                        <td id=\"T_1b0d7e7a_3734_11ea_8cfa_48bf6be9ffearow1_col1\" class=\"data row1 col1\" >22</td>\n",
       "            </tr>\n",
       "            <tr>\n",
       "                        <th id=\"T_1b0d7e7a_3734_11ea_8cfa_48bf6be9ffealevel0_row2\" class=\"row_heading level0 row2\" >15-19</th>\n",
       "                        <td id=\"T_1b0d7e7a_3734_11ea_8cfa_48bf6be9ffearow2_col0\" class=\"data row2 col0\" >18.5764</td>\n",
       "                        <td id=\"T_1b0d7e7a_3734_11ea_8cfa_48bf6be9ffearow2_col1\" class=\"data row2 col1\" >107</td>\n",
       "            </tr>\n",
       "            <tr>\n",
       "                        <th id=\"T_1b0d7e7a_3734_11ea_8cfa_48bf6be9ffealevel0_row3\" class=\"row_heading level0 row3\" >20-24</th>\n",
       "                        <td id=\"T_1b0d7e7a_3734_11ea_8cfa_48bf6be9ffearow3_col0\" class=\"data row3 col0\" >44.7917</td>\n",
       "                        <td id=\"T_1b0d7e7a_3734_11ea_8cfa_48bf6be9ffearow3_col1\" class=\"data row3 col1\" >258</td>\n",
       "            </tr>\n",
       "            <tr>\n",
       "                        <th id=\"T_1b0d7e7a_3734_11ea_8cfa_48bf6be9ffealevel0_row4\" class=\"row_heading level0 row4\" >25-29</th>\n",
       "                        <td id=\"T_1b0d7e7a_3734_11ea_8cfa_48bf6be9ffearow4_col0\" class=\"data row4 col0\" >13.3681</td>\n",
       "                        <td id=\"T_1b0d7e7a_3734_11ea_8cfa_48bf6be9ffearow4_col1\" class=\"data row4 col1\" >77</td>\n",
       "            </tr>\n",
       "            <tr>\n",
       "                        <th id=\"T_1b0d7e7a_3734_11ea_8cfa_48bf6be9ffealevel0_row5\" class=\"row_heading level0 row5\" >30-34</th>\n",
       "                        <td id=\"T_1b0d7e7a_3734_11ea_8cfa_48bf6be9ffearow5_col0\" class=\"data row5 col0\" >9.02778</td>\n",
       "                        <td id=\"T_1b0d7e7a_3734_11ea_8cfa_48bf6be9ffearow5_col1\" class=\"data row5 col1\" >52</td>\n",
       "            </tr>\n",
       "            <tr>\n",
       "                        <th id=\"T_1b0d7e7a_3734_11ea_8cfa_48bf6be9ffealevel0_row6\" class=\"row_heading level0 row6\" >35-39</th>\n",
       "                        <td id=\"T_1b0d7e7a_3734_11ea_8cfa_48bf6be9ffearow6_col0\" class=\"data row6 col0\" >5.38194</td>\n",
       "                        <td id=\"T_1b0d7e7a_3734_11ea_8cfa_48bf6be9ffearow6_col1\" class=\"data row6 col1\" >31</td>\n",
       "            </tr>\n",
       "            <tr>\n",
       "                        <th id=\"T_1b0d7e7a_3734_11ea_8cfa_48bf6be9ffealevel0_row7\" class=\"row_heading level0 row7\" >40+</th>\n",
       "                        <td id=\"T_1b0d7e7a_3734_11ea_8cfa_48bf6be9ffearow7_col0\" class=\"data row7 col0\" >2.08333</td>\n",
       "                        <td id=\"T_1b0d7e7a_3734_11ea_8cfa_48bf6be9ffearow7_col1\" class=\"data row7 col1\" >12</td>\n",
       "            </tr>\n",
       "    </tbody></table>"
      ],
      "text/plain": [
       "<pandas.io.formats.style.Styler at 0x119d23358>"
      ]
     },
     "execution_count": 35,
     "metadata": {},
     "output_type": "execute_result"
    }
   ],
   "source": [
    "# Age Demographics\n",
    "\n",
    "# age bins\n",
    "#* when doing binning how do you know what numbers to set your bins\n",
    "\n",
    "age_bins= [0,9.90,14.90,19.90,24.90,29.90,34.90,39.90,99999]\n",
    "group_names=[\"<10\",\"10-14\",\"15-19\",\"20-24\",\"25-29\",\"30-34\",\"35-39\",\"40+\"]\n",
    "purchase_data[\"Age Group\"]=pd.cut(purchase_data[\"Age\"],age_bins,labels=group_names)\n",
    "\n",
    "# create a new dataframe with the added \"Age Group\" and group to it \n",
    "age_grouped=purchase_data.groupby(\"Age Group\")\n",
    "total_count_age=age_grouped[\"SN\"].nunique()\n",
    "percentage_by_age=(total_count_age/player_count)*100\n",
    "age_demographics=pd.DataFrame({\"Percent of Players\":percentage_by_age,\"Total Count\":total_count_age})\n",
    "age_demographics.index.name=None \n",
    "age_demographics.style.format({\"Percentage of Players\":\"{:,.2f}\"})"
   ]
  },
  {
   "cell_type": "markdown",
   "metadata": {},
   "source": [
    "## Purchasing Analysis (Age)"
   ]
  },
  {
   "cell_type": "markdown",
   "metadata": {},
   "source": [
    "* Bin the purchase_data data frame by age\n",
    "\n",
    "\n",
    "* Run basic calculations to obtain purchase count, avg. purchase price, avg. purchase total per person etc. in the table below\n",
    "\n",
    "\n",
    "* Create a summary data frame to hold the results\n",
    "\n",
    "\n",
    "* Optional: give the displayed data cleaner formatting\n",
    "\n",
    "\n",
    "* Display the summary data frame"
   ]
  },
  {
   "cell_type": "code",
   "execution_count": 44,
   "metadata": {
    "scrolled": true
   },
   "outputs": [
    {
     "ename": "SyntaxError",
     "evalue": "invalid syntax (<ipython-input-44-bd707a14aa22>, line 14)",
     "output_type": "error",
     "traceback": [
      "\u001b[0;36m  File \u001b[0;32m\"<ipython-input-44-bd707a14aa22>\"\u001b[0;36m, line \u001b[0;32m14\u001b[0m\n\u001b[0;31m    age_demo.style.format({\"Average Purchase Price\":\"${:,.2f}\",\"Total Purchase by Age\":\"${:,.2f}\",\"Average Purchase per Person\":\"${:,.2f}\" )\u001b[0m\n\u001b[0m                                                                                                                                           ^\u001b[0m\n\u001b[0;31mSyntaxError\u001b[0m\u001b[0;31m:\u001b[0m invalid syntax\n"
     ]
    }
   ],
   "source": [
    "#Purchasing Analysis(Age)\n",
    "#Binning the purchase data by age was done in perevious step\n",
    "#purchase count \n",
    "purchase_count_age=age_grouped[\"Purchase ID\"].count()\n",
    "#average purchase price\n",
    "avg_purchase_priced_age=age_grouped[\"Price\"].mean()\n",
    "#total purchase value by age\n",
    "tot_purchase_age=age_grouped[\"Price\"].sum()\n",
    "#average purchase per person in the age group\n",
    "avg_purchase_per_person_age=tot_purchase_age/total_count_age\n",
    "#age demographics summary\n",
    "age_demo=pd.DataFrame({\"Purchase Count\":purchase_count_age, \"Average Purchase Price\":avg_purchase_priced_age,\"Total Purchase by Age\":tot_purchase_age,\"Average Purchase per Person\":avg_purchase_per_person_age})\n",
    "age_demo.index.name=None\n",
    "age_demo.style.format({\"Average Purchase Price\":\"${:,.2f}\",\"Total Purchase by Age\":\"${:,.2f}\",\"Average Purchase per Person\":\"${:,.2f}\" )\n",
    "\n"
   ]
  },
  {
   "cell_type": "markdown",
   "metadata": {},
   "source": [
    "## Top Spenders"
   ]
  },
  {
   "cell_type": "markdown",
   "metadata": {},
   "source": [
    "* Run basic calculations to obtain the results in the table below\n",
    "\n",
    "\n",
    "* Create a summary data frame to hold the results\n",
    "\n",
    "\n",
    "* Sort the total purchase value column in descending order\n",
    "\n",
    "\n",
    "* Optional: give the displayed data cleaner formatting\n",
    "\n",
    "\n",
    "* Display a preview of the summary data frame\n",
    "\n"
   ]
  },
  {
   "cell_type": "code",
   "execution_count": 58,
   "metadata": {},
   "outputs": [
    {
     "data": {
      "text/html": [
       "<style  type=\"text/css\" >\n",
       "</style><table id=\"T_85f9fba8_3736_11ea_8cfa_48bf6be9ffea\" ><thead>    <tr>        <th class=\"blank level0\" ></th>        <th class=\"col_heading level0 col0\" >Purchase Count</th>        <th class=\"col_heading level0 col1\" >Average Purchase Price</th>        <th class=\"col_heading level0 col2\" >Total Purchase</th>    </tr>    <tr>        <th class=\"index_name level0\" >SN</th>        <th class=\"blank\" ></th>        <th class=\"blank\" ></th>        <th class=\"blank\" ></th>    </tr></thead><tbody>\n",
       "                <tr>\n",
       "                        <th id=\"T_85f9fba8_3736_11ea_8cfa_48bf6be9ffealevel0_row0\" class=\"row_heading level0 row0\" >Lisosia93</th>\n",
       "                        <td id=\"T_85f9fba8_3736_11ea_8cfa_48bf6be9ffearow0_col0\" class=\"data row0 col0\" >5</td>\n",
       "                        <td id=\"T_85f9fba8_3736_11ea_8cfa_48bf6be9ffearow0_col1\" class=\"data row0 col1\" >$3.79</td>\n",
       "                        <td id=\"T_85f9fba8_3736_11ea_8cfa_48bf6be9ffearow0_col2\" class=\"data row0 col2\" >$18.96</td>\n",
       "            </tr>\n",
       "            <tr>\n",
       "                        <th id=\"T_85f9fba8_3736_11ea_8cfa_48bf6be9ffealevel0_row1\" class=\"row_heading level0 row1\" >Idastidru52</th>\n",
       "                        <td id=\"T_85f9fba8_3736_11ea_8cfa_48bf6be9ffearow1_col0\" class=\"data row1 col0\" >4</td>\n",
       "                        <td id=\"T_85f9fba8_3736_11ea_8cfa_48bf6be9ffearow1_col1\" class=\"data row1 col1\" >$3.86</td>\n",
       "                        <td id=\"T_85f9fba8_3736_11ea_8cfa_48bf6be9ffearow1_col2\" class=\"data row1 col2\" >$15.45</td>\n",
       "            </tr>\n",
       "            <tr>\n",
       "                        <th id=\"T_85f9fba8_3736_11ea_8cfa_48bf6be9ffealevel0_row2\" class=\"row_heading level0 row2\" >Chamjask73</th>\n",
       "                        <td id=\"T_85f9fba8_3736_11ea_8cfa_48bf6be9ffearow2_col0\" class=\"data row2 col0\" >3</td>\n",
       "                        <td id=\"T_85f9fba8_3736_11ea_8cfa_48bf6be9ffearow2_col1\" class=\"data row2 col1\" >$4.61</td>\n",
       "                        <td id=\"T_85f9fba8_3736_11ea_8cfa_48bf6be9ffearow2_col2\" class=\"data row2 col2\" >$13.83</td>\n",
       "            </tr>\n",
       "            <tr>\n",
       "                        <th id=\"T_85f9fba8_3736_11ea_8cfa_48bf6be9ffealevel0_row3\" class=\"row_heading level0 row3\" >Iral74</th>\n",
       "                        <td id=\"T_85f9fba8_3736_11ea_8cfa_48bf6be9ffearow3_col0\" class=\"data row3 col0\" >4</td>\n",
       "                        <td id=\"T_85f9fba8_3736_11ea_8cfa_48bf6be9ffearow3_col1\" class=\"data row3 col1\" >$3.40</td>\n",
       "                        <td id=\"T_85f9fba8_3736_11ea_8cfa_48bf6be9ffearow3_col2\" class=\"data row3 col2\" >$13.62</td>\n",
       "            </tr>\n",
       "            <tr>\n",
       "                        <th id=\"T_85f9fba8_3736_11ea_8cfa_48bf6be9ffealevel0_row4\" class=\"row_heading level0 row4\" >Iskadarya95</th>\n",
       "                        <td id=\"T_85f9fba8_3736_11ea_8cfa_48bf6be9ffearow4_col0\" class=\"data row4 col0\" >3</td>\n",
       "                        <td id=\"T_85f9fba8_3736_11ea_8cfa_48bf6be9ffearow4_col1\" class=\"data row4 col1\" >$4.37</td>\n",
       "                        <td id=\"T_85f9fba8_3736_11ea_8cfa_48bf6be9ffearow4_col2\" class=\"data row4 col2\" >$13.10</td>\n",
       "            </tr>\n",
       "    </tbody></table>"
      ],
      "text/plain": [
       "<pandas.io.formats.style.Styler at 0x11a425860>"
      ]
     },
     "execution_count": 58,
     "metadata": {},
     "output_type": "execute_result"
    }
   ],
   "source": [
    "#Group purchase data by screen name\n",
    "spender_=purchase_data.groupby(\"SN\")\n",
    "#count the total purchases by name\n",
    "spender_count=spender_[\"Purchase ID\"].count()\n",
    "#average\n",
    "avg_pur_spender=spender_[\"Price\"].mean()\n",
    "#Purchase total by spender\n",
    "spender_pur_total=spender_[\"Price\"].sum()\n",
    "#create dataframe\n",
    "spender_df=pd.DataFrame({\"Purchase Count\":spender_count, \"Average Purchase Price\":avg_pur_spender,\"Total Purchase\":spender_pur_total})\n",
    "#edit format\n",
    "format_spenders=spender_df.sort_values([\"Total Purchase\"],ascending=False).head()\n",
    "format_spenders.style.format({\"Average Purchase Total\":\"${:,.2f}\",\n",
    "                                 \"Average Purchase Price\":\"${:,.2f}\", \n",
    "                                 \"Total Purchase\":\"${:,.2f}\"})"
   ]
  },
  {
   "cell_type": "markdown",
   "metadata": {},
   "source": [
    "## Most Popular Items"
   ]
  },
  {
   "cell_type": "markdown",
   "metadata": {},
   "source": [
    "* Retrieve the Item ID, Item Name, and Item Price columns\n",
    "\n",
    "\n",
    "* Group by Item ID and Item Name. Perform calculations to obtain purchase count, item price, and total purchase value\n",
    "\n",
    "\n",
    "* Create a summary data frame to hold the results\n",
    "\n",
    "\n",
    "* Sort the purchase count column in descending order\n",
    "\n",
    "\n",
    "* Optional: give the displayed data cleaner formatting\n",
    "\n",
    "\n",
    "* Display a preview of the summary data frame\n",
    "\n"
   ]
  },
  {
   "cell_type": "code",
   "execution_count": 68,
   "metadata": {},
   "outputs": [
    {
     "data": {
      "text/html": [
       "<style  type=\"text/css\" >\n",
       "</style><table id=\"T_2cec17a6_3738_11ea_8cfa_48bf6be9ffea\" ><thead>    <tr>        <th class=\"blank\" ></th>        <th class=\"blank level0\" ></th>        <th class=\"col_heading level0 col0\" >Purchase Count</th>        <th class=\"col_heading level0 col1\" >Item Price</th>        <th class=\"col_heading level0 col2\" >Total Purchase Value</th>    </tr>    <tr>        <th class=\"index_name level0\" >Item ID</th>        <th class=\"index_name level1\" >Item Name</th>        <th class=\"blank\" ></th>        <th class=\"blank\" ></th>        <th class=\"blank\" ></th>    </tr></thead><tbody>\n",
       "                <tr>\n",
       "                        <th id=\"T_2cec17a6_3738_11ea_8cfa_48bf6be9ffealevel0_row0\" class=\"row_heading level0 row0\" >178</th>\n",
       "                        <th id=\"T_2cec17a6_3738_11ea_8cfa_48bf6be9ffealevel1_row0\" class=\"row_heading level1 row0\" >Oathbreaker, Last Hope of the Breaking Storm</th>\n",
       "                        <td id=\"T_2cec17a6_3738_11ea_8cfa_48bf6be9ffearow0_col0\" class=\"data row0 col0\" >12</td>\n",
       "                        <td id=\"T_2cec17a6_3738_11ea_8cfa_48bf6be9ffearow0_col1\" class=\"data row0 col1\" >$4.23</td>\n",
       "                        <td id=\"T_2cec17a6_3738_11ea_8cfa_48bf6be9ffearow0_col2\" class=\"data row0 col2\" >$50.76</td>\n",
       "            </tr>\n",
       "            <tr>\n",
       "                        <th id=\"T_2cec17a6_3738_11ea_8cfa_48bf6be9ffealevel0_row1\" class=\"row_heading level0 row1\" >145</th>\n",
       "                        <th id=\"T_2cec17a6_3738_11ea_8cfa_48bf6be9ffealevel1_row1\" class=\"row_heading level1 row1\" >Fiery Glass Crusader</th>\n",
       "                        <td id=\"T_2cec17a6_3738_11ea_8cfa_48bf6be9ffearow1_col0\" class=\"data row1 col0\" >9</td>\n",
       "                        <td id=\"T_2cec17a6_3738_11ea_8cfa_48bf6be9ffearow1_col1\" class=\"data row1 col1\" >$4.58</td>\n",
       "                        <td id=\"T_2cec17a6_3738_11ea_8cfa_48bf6be9ffearow1_col2\" class=\"data row1 col2\" >$41.22</td>\n",
       "            </tr>\n",
       "            <tr>\n",
       "                        <th id=\"T_2cec17a6_3738_11ea_8cfa_48bf6be9ffealevel0_row2\" class=\"row_heading level0 row2\" >108</th>\n",
       "                        <th id=\"T_2cec17a6_3738_11ea_8cfa_48bf6be9ffealevel1_row2\" class=\"row_heading level1 row2\" >Extraction, Quickblade Of Trembling Hands</th>\n",
       "                        <td id=\"T_2cec17a6_3738_11ea_8cfa_48bf6be9ffearow2_col0\" class=\"data row2 col0\" >9</td>\n",
       "                        <td id=\"T_2cec17a6_3738_11ea_8cfa_48bf6be9ffearow2_col1\" class=\"data row2 col1\" >$3.53</td>\n",
       "                        <td id=\"T_2cec17a6_3738_11ea_8cfa_48bf6be9ffearow2_col2\" class=\"data row2 col2\" >$31.77</td>\n",
       "            </tr>\n",
       "            <tr>\n",
       "                        <th id=\"T_2cec17a6_3738_11ea_8cfa_48bf6be9ffealevel0_row3\" class=\"row_heading level0 row3\" >82</th>\n",
       "                        <th id=\"T_2cec17a6_3738_11ea_8cfa_48bf6be9ffealevel1_row3\" class=\"row_heading level1 row3\" >Nirvana</th>\n",
       "                        <td id=\"T_2cec17a6_3738_11ea_8cfa_48bf6be9ffearow3_col0\" class=\"data row3 col0\" >9</td>\n",
       "                        <td id=\"T_2cec17a6_3738_11ea_8cfa_48bf6be9ffearow3_col1\" class=\"data row3 col1\" >$4.90</td>\n",
       "                        <td id=\"T_2cec17a6_3738_11ea_8cfa_48bf6be9ffearow3_col2\" class=\"data row3 col2\" >$44.10</td>\n",
       "            </tr>\n",
       "            <tr>\n",
       "                        <th id=\"T_2cec17a6_3738_11ea_8cfa_48bf6be9ffealevel0_row4\" class=\"row_heading level0 row4\" >19</th>\n",
       "                        <th id=\"T_2cec17a6_3738_11ea_8cfa_48bf6be9ffealevel1_row4\" class=\"row_heading level1 row4\" >Pursuit, Cudgel of Necromancy</th>\n",
       "                        <td id=\"T_2cec17a6_3738_11ea_8cfa_48bf6be9ffearow4_col0\" class=\"data row4 col0\" >8</td>\n",
       "                        <td id=\"T_2cec17a6_3738_11ea_8cfa_48bf6be9ffearow4_col1\" class=\"data row4 col1\" >$1.02</td>\n",
       "                        <td id=\"T_2cec17a6_3738_11ea_8cfa_48bf6be9ffearow4_col2\" class=\"data row4 col2\" >$8.16</td>\n",
       "            </tr>\n",
       "    </tbody></table>"
      ],
      "text/plain": [
       "<pandas.io.formats.style.Styler at 0x11a29bd68>"
      ]
     },
     "execution_count": 68,
     "metadata": {},
     "output_type": "execute_result"
    }
   ],
   "source": [
    "# Dataframe with information\n",
    "items=purchase_data[[\"Item ID\",\"Item Name\",\"Price\"]]\n",
    "#grouping by item ID and Item Name\n",
    "items_group=items.groupby([\"Item ID\",\"Item Name\"])\n",
    "#count of the amount of times an item has been purchased\n",
    "items_purchase=items_group[\"Price\"].count()\n",
    "#purchase value per item\n",
    "purchase_value=items_group[\"Price\"].sum()\n",
    "#Individual Item price\n",
    "item_price=purchase_value/items_purchase\n",
    "#dataframe\n",
    "most_popular_items = pd.DataFrame({\"Purchase Count\": items_purchase, \n",
    "                                   \"Item Price\": item_price,\n",
    "                                   \"Total Purchase Value\":purchase_value})\n",
    "#formatting\n",
    "popular_formatted = most_popular_items.sort_values([\"Purchase Count\"], ascending=False).head()\n",
    "popular_formatted.style.format({\"Item Price\":\"${:,.2f}\",\n",
    "                                \"Total Purchase Value\":\"${:,.2f}\"})\n"
   ]
  },
  {
   "cell_type": "markdown",
   "metadata": {},
   "source": [
    "## Most Profitable Items"
   ]
  },
  {
   "cell_type": "markdown",
   "metadata": {},
   "source": [
    "* Sort the above table by total purchase value in descending order\n",
    "\n",
    "\n",
    "* Optional: give the displayed data cleaner formatting\n",
    "\n",
    "\n",
    "* Display a preview of the data frame\n",
    "\n"
   ]
  },
  {
   "cell_type": "code",
   "execution_count": 69,
   "metadata": {
    "scrolled": true
   },
   "outputs": [],
   "source": [
    "# sorting in descending order\n",
    "popular_formatted = most_popular_items.sort_values([\"Total Purchase Value\"],\n",
    "                                                   ascending=False).head()"
   ]
  },
  {
   "cell_type": "code",
   "execution_count": 70,
   "metadata": {},
   "outputs": [
    {
     "data": {
      "text/html": [
       "<style  type=\"text/css\" >\n",
       "</style><table id=\"T_a749ae30_373a_11ea_8cfa_48bf6be9ffea\" ><thead>    <tr>        <th class=\"blank\" ></th>        <th class=\"blank level0\" ></th>        <th class=\"col_heading level0 col0\" >Purchase Count</th>        <th class=\"col_heading level0 col1\" >Item Price</th>        <th class=\"col_heading level0 col2\" >Total Purchase Value</th>    </tr>    <tr>        <th class=\"index_name level0\" >Item ID</th>        <th class=\"index_name level1\" >Item Name</th>        <th class=\"blank\" ></th>        <th class=\"blank\" ></th>        <th class=\"blank\" ></th>    </tr></thead><tbody>\n",
       "                <tr>\n",
       "                        <th id=\"T_a749ae30_373a_11ea_8cfa_48bf6be9ffealevel0_row0\" class=\"row_heading level0 row0\" >178</th>\n",
       "                        <th id=\"T_a749ae30_373a_11ea_8cfa_48bf6be9ffealevel1_row0\" class=\"row_heading level1 row0\" >Oathbreaker, Last Hope of the Breaking Storm</th>\n",
       "                        <td id=\"T_a749ae30_373a_11ea_8cfa_48bf6be9ffearow0_col0\" class=\"data row0 col0\" >12</td>\n",
       "                        <td id=\"T_a749ae30_373a_11ea_8cfa_48bf6be9ffearow0_col1\" class=\"data row0 col1\" >$4.23</td>\n",
       "                        <td id=\"T_a749ae30_373a_11ea_8cfa_48bf6be9ffearow0_col2\" class=\"data row0 col2\" >$50.76</td>\n",
       "            </tr>\n",
       "            <tr>\n",
       "                        <th id=\"T_a749ae30_373a_11ea_8cfa_48bf6be9ffealevel0_row1\" class=\"row_heading level0 row1\" >82</th>\n",
       "                        <th id=\"T_a749ae30_373a_11ea_8cfa_48bf6be9ffealevel1_row1\" class=\"row_heading level1 row1\" >Nirvana</th>\n",
       "                        <td id=\"T_a749ae30_373a_11ea_8cfa_48bf6be9ffearow1_col0\" class=\"data row1 col0\" >9</td>\n",
       "                        <td id=\"T_a749ae30_373a_11ea_8cfa_48bf6be9ffearow1_col1\" class=\"data row1 col1\" >$4.90</td>\n",
       "                        <td id=\"T_a749ae30_373a_11ea_8cfa_48bf6be9ffearow1_col2\" class=\"data row1 col2\" >$44.10</td>\n",
       "            </tr>\n",
       "            <tr>\n",
       "                        <th id=\"T_a749ae30_373a_11ea_8cfa_48bf6be9ffealevel0_row2\" class=\"row_heading level0 row2\" >145</th>\n",
       "                        <th id=\"T_a749ae30_373a_11ea_8cfa_48bf6be9ffealevel1_row2\" class=\"row_heading level1 row2\" >Fiery Glass Crusader</th>\n",
       "                        <td id=\"T_a749ae30_373a_11ea_8cfa_48bf6be9ffearow2_col0\" class=\"data row2 col0\" >9</td>\n",
       "                        <td id=\"T_a749ae30_373a_11ea_8cfa_48bf6be9ffearow2_col1\" class=\"data row2 col1\" >$4.58</td>\n",
       "                        <td id=\"T_a749ae30_373a_11ea_8cfa_48bf6be9ffearow2_col2\" class=\"data row2 col2\" >$41.22</td>\n",
       "            </tr>\n",
       "            <tr>\n",
       "                        <th id=\"T_a749ae30_373a_11ea_8cfa_48bf6be9ffealevel0_row3\" class=\"row_heading level0 row3\" >92</th>\n",
       "                        <th id=\"T_a749ae30_373a_11ea_8cfa_48bf6be9ffealevel1_row3\" class=\"row_heading level1 row3\" >Final Critic</th>\n",
       "                        <td id=\"T_a749ae30_373a_11ea_8cfa_48bf6be9ffearow3_col0\" class=\"data row3 col0\" >8</td>\n",
       "                        <td id=\"T_a749ae30_373a_11ea_8cfa_48bf6be9ffearow3_col1\" class=\"data row3 col1\" >$4.88</td>\n",
       "                        <td id=\"T_a749ae30_373a_11ea_8cfa_48bf6be9ffearow3_col2\" class=\"data row3 col2\" >$39.04</td>\n",
       "            </tr>\n",
       "            <tr>\n",
       "                        <th id=\"T_a749ae30_373a_11ea_8cfa_48bf6be9ffealevel0_row4\" class=\"row_heading level0 row4\" >103</th>\n",
       "                        <th id=\"T_a749ae30_373a_11ea_8cfa_48bf6be9ffealevel1_row4\" class=\"row_heading level1 row4\" >Singed Scalpel</th>\n",
       "                        <td id=\"T_a749ae30_373a_11ea_8cfa_48bf6be9ffearow4_col0\" class=\"data row4 col0\" >8</td>\n",
       "                        <td id=\"T_a749ae30_373a_11ea_8cfa_48bf6be9ffearow4_col1\" class=\"data row4 col1\" >$4.35</td>\n",
       "                        <td id=\"T_a749ae30_373a_11ea_8cfa_48bf6be9ffearow4_col2\" class=\"data row4 col2\" >$34.80</td>\n",
       "            </tr>\n",
       "    </tbody></table>"
      ],
      "text/plain": [
       "<pandas.io.formats.style.Styler at 0x11b17a860>"
      ]
     },
     "execution_count": 70,
     "metadata": {},
     "output_type": "execute_result"
    }
   ],
   "source": [
    "popular_formatted.style.format({\"Item Price\":\"${:,.2f}\",\n",
    "                                \"Total Purchase Value\":\"${:,.2f}\"})"
   ]
  },
  {
   "cell_type": "code",
   "execution_count": null,
   "metadata": {},
   "outputs": [],
   "source": []
  }
 ],
 "metadata": {
  "anaconda-cloud": {},
  "kernel_info": {
   "name": "python3"
  },
  "kernelspec": {
   "display_name": "Python 3",
   "language": "python",
   "name": "python3"
  },
  "language_info": {
   "codemirror_mode": {
    "name": "ipython",
    "version": 3
   },
   "file_extension": ".py",
   "mimetype": "text/x-python",
   "name": "python",
   "nbconvert_exporter": "python",
   "pygments_lexer": "ipython3",
   "version": "3.7.3"
  },
  "latex_envs": {
   "LaTeX_envs_menu_present": true,
   "autoclose": false,
   "autocomplete": true,
   "bibliofile": "biblio.bib",
   "cite_by": "apalike",
   "current_citInitial": 1,
   "eqLabelWithNumbers": true,
   "eqNumInitial": 1,
   "hotkeys": {
    "equation": "Ctrl-E",
    "itemize": "Ctrl-I"
   },
   "labels_anchors": false,
   "latex_user_defs": false,
   "report_style_numbering": false,
   "user_envs_cfg": false
  },
  "nteract": {
   "version": "0.2.0"
  }
 },
 "nbformat": 4,
 "nbformat_minor": 2
}
